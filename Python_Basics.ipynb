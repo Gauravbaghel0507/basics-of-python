{
  "nbformat": 4,
  "nbformat_minor": 0,
  "metadata": {
    "colab": {
      "provenance": []
    },
    "kernelspec": {
      "name": "python3",
      "display_name": "Python 3"
    },
    "language_info": {
      "name": "python"
    }
  },
  "cells": [
    {
      "cell_type": "code",
      "source": [
        "name='Gaurav'\n",
        "Name='baghel'\n",
        "print(name)\n",
        "print(Name)"
      ],
      "metadata": {
        "id": "Ujz4vtC-E686",
        "colab": {
          "base_uri": "https://localhost:8080/"
        },
        "outputId": "a9dbb5f1-430d-4e38-a5df-58f2b727b331"
      },
      "execution_count": 164,
      "outputs": [
        {
          "output_type": "stream",
          "name": "stdout",
          "text": [
            "Gaurav\n",
            "baghel\n"
          ]
        }
      ]
    },
    {
      "cell_type": "code",
      "source": [
        "x=99\n",
        "y=23\n",
        "x+y"
      ],
      "metadata": {
        "id": "G5-Jghi8FFg2",
        "colab": {
          "base_uri": "https://localhost:8080/"
        },
        "outputId": "98515bc7-2314-4471-db3e-5a7b87ee65b7"
      },
      "execution_count": 165,
      "outputs": [
        {
          "output_type": "execute_result",
          "data": {
            "text/plain": [
              "122"
            ]
          },
          "metadata": {},
          "execution_count": 165
        }
      ]
    },
    {
      "cell_type": "code",
      "source": [
        "age=35\n",
        "if age>=30:\n",
        "    print(age)\n",
        "print(\"age is\",age)"
      ],
      "metadata": {
        "id": "qDF5rsxeFlCu",
        "colab": {
          "base_uri": "https://localhost:8080/"
        },
        "outputId": "b9d18248-c36b-4d97-f8b7-af8ddafae976"
      },
      "execution_count": 166,
      "outputs": [
        {
          "output_type": "stream",
          "name": "stdout",
          "text": [
            "35\n",
            "age is 35\n"
          ]
        }
      ]
    },
    {
      "cell_type": "code",
      "source": [
        "print(f\"My age is {age} years\")"
      ],
      "metadata": {
        "id": "-Gm4nahQFvD8",
        "colab": {
          "base_uri": "https://localhost:8080/"
        },
        "outputId": "16461dd3-ca03-4f23-dcda-e2bd6e884992"
      },
      "execution_count": 167,
      "outputs": [
        {
          "output_type": "stream",
          "name": "stdout",
          "text": [
            "My age is 35 years\n"
          ]
        }
      ]
    },
    {
      "cell_type": "code",
      "source": [
        "total = 1 + 2 + 3 + 9 + 7 + 7 + 7 + \\\n",
        "4+5+6\n",
        "print(total)"
      ],
      "metadata": {
        "id": "MkkY6EJJF1Tz",
        "colab": {
          "base_uri": "https://localhost:8080/"
        },
        "outputId": "ae348c94-18b6-48cc-f870-3a0e541d4d02"
      },
      "execution_count": 168,
      "outputs": [
        {
          "output_type": "stream",
          "name": "stdout",
          "text": [
            "51\n"
          ]
        }
      ]
    },
    {
      "cell_type": "code",
      "source": [
        "x=5;y=67;z=x+y\n",
        "z"
      ],
      "metadata": {
        "id": "eV4rSpb-F-sl",
        "colab": {
          "base_uri": "https://localhost:8080/"
        },
        "outputId": "4350966f-35bc-492b-a55b-3d380e6a9813"
      },
      "execution_count": 169,
      "outputs": [
        {
          "output_type": "execute_result",
          "data": {
            "text/plain": [
              "72"
            ]
          },
          "metadata": {},
          "execution_count": 169
        }
      ]
    },
    {
      "cell_type": "code",
      "source": [
        "age = 32.9\n",
        "name = \"Sachin\"\n",
        "print(type(age))\n",
        "print(type(name))"
      ],
      "metadata": {
        "id": "iZz2cNywGHNP",
        "colab": {
          "base_uri": "https://localhost:8080/"
        },
        "outputId": "ba9518dc-f10c-4d14-d92e-495c3965c8c5"
      },
      "execution_count": 170,
      "outputs": [
        {
          "output_type": "stream",
          "name": "stdout",
          "text": [
            "<class 'float'>\n",
            "<class 'str'>\n"
          ]
        }
      ]
    },
    {
      "cell_type": "markdown",
      "source": [
        "#2nd sheet defining variables"
      ],
      "metadata": {
        "id": "cgliNqCrGRYy"
      }
    },
    {
      "cell_type": "code",
      "source": [
        "age = 6; height = 4.1; name = \"tony\";stu=True\n",
        "print(\"age :\", age)\n",
        "print(\"Height:\", height,type(height))\n",
        "print(\"Name:\", name,type(name))\n",
        "print(type(stu))"
      ],
      "metadata": {
        "id": "ERsRjqCoGuzQ",
        "colab": {
          "base_uri": "https://localhost:8080/"
        },
        "outputId": "28d9b2e6-d23b-414a-a60a-64cade29a147"
      },
      "execution_count": 171,
      "outputs": [
        {
          "output_type": "stream",
          "name": "stdout",
          "text": [
            "age : 6\n",
            "Height: 4.1 <class 'float'>\n",
            "Name: tony <class 'str'>\n",
            "<class 'bool'>\n"
          ]
        }
      ]
    },
    {
      "cell_type": "code",
      "source": [
        "age = 25\n",
        "print(type(age))\n",
        "\n",
        "age_str = str(age)\n",
        "print(type(age_str))\n"
      ],
      "metadata": {
        "id": "LFoGppU_GwLv",
        "colab": {
          "base_uri": "https://localhost:8080/"
        },
        "outputId": "ac2d5f12-4fec-455a-fc1c-10e06b7aca14"
      },
      "execution_count": 172,
      "outputs": [
        {
          "output_type": "stream",
          "name": "stdout",
          "text": [
            "<class 'int'>\n",
            "<class 'str'>\n"
          ]
        }
      ]
    },
    {
      "cell_type": "code",
      "source": [
        "name=str(input(\"What is your name?\"))\n",
        "print(\"Your name is \",name)"
      ],
      "metadata": {
        "id": "0wa-zyhTHGkl",
        "colab": {
          "base_uri": "https://localhost:8080/"
        },
        "outputId": "fbb4f49d-c1e4-45aa-c0e9-201f92b07604"
      },
      "execution_count": 173,
      "outputs": [
        {
          "output_type": "stream",
          "name": "stdout",
          "text": [
            "What is your name?gaurav\n",
            "Your name is  gaurav\n"
          ]
        }
      ]
    },
    {
      "cell_type": "code",
      "source": [
        "age=int(input(\"Enter Your Age\"))\n",
        "print(age)"
      ],
      "metadata": {
        "id": "OYEQJaX7HFxw",
        "colab": {
          "base_uri": "https://localhost:8080/"
        },
        "outputId": "dd55b489-f11a-4f09-bf88-948d20496306"
      },
      "execution_count": 174,
      "outputs": [
        {
          "output_type": "stream",
          "name": "stdout",
          "text": [
            "Enter Your Age32\n",
            "32\n"
          ]
        }
      ]
    },
    {
      "cell_type": "code",
      "source": [
        "num1 = float(input(\"Enter first number: \"))\n",
        "num2 = float(input(\"Enter second number: \"))\n",
        "sum = num1 + num2\n",
        "difference = num1 - num2\n",
        "product = num1 * num2\n",
        "quotient = num1 / num2\n",
        "print(\"Sum:\", sum)\n",
        "print(\"Difference:\", difference)\n",
        "print(\"Product:\", product)\n",
        "print(\"Quotient:\", quotient)"
      ],
      "metadata": {
        "id": "OiB3_IUzHMjh",
        "colab": {
          "base_uri": "https://localhost:8080/"
        },
        "outputId": "24b8205f-4cb6-45ad-ca46-2f834bdaf70c"
      },
      "execution_count": 175,
      "outputs": [
        {
          "output_type": "stream",
          "name": "stdout",
          "text": [
            "Enter first number: 34\n",
            "Enter second number: 23\n",
            "Sum: 57.0\n",
            "Difference: 11.0\n",
            "Product: 782.0\n",
            "Quotient: 1.4782608695652173\n"
          ]
        }
      ]
    },
    {
      "cell_type": "code",
      "source": [
        "age = 35\n",
        "print(type(age))\n",
        "height = 5.11\n",
        "print(height)\n",
        "print(type(height))"
      ],
      "metadata": {
        "id": "I1bnhNIpHMIi",
        "colab": {
          "base_uri": "https://localhost:8080/"
        },
        "outputId": "138892ef-de28-4f11-8d7d-8b513e93dcaa"
      },
      "execution_count": 176,
      "outputs": [
        {
          "output_type": "stream",
          "name": "stdout",
          "text": [
            "<class 'int'>\n",
            "5.11\n",
            "<class 'float'>\n"
          ]
        }
      ]
    },
    {
      "cell_type": "code",
      "source": [
        "name=\"Gaurav\"\n",
        "print(name)\n",
        "print(type(name))"
      ],
      "metadata": {
        "id": "_3m0_1HrHL_8",
        "colab": {
          "base_uri": "https://localhost:8080/"
        },
        "outputId": "60bce9ec-ecc5-43ce-b163-4655a68405eb"
      },
      "execution_count": 177,
      "outputs": [
        {
          "output_type": "stream",
          "name": "stdout",
          "text": [
            "Gaurav\n",
            "<class 'str'>\n"
          ]
        }
      ]
    },
    {
      "cell_type": "code",
      "source": [
        "t=True\n",
        "print(type(t))"
      ],
      "metadata": {
        "id": "X6l7Phs5Hlx1",
        "colab": {
          "base_uri": "https://localhost:8080/"
        },
        "outputId": "abfba56c-015c-43c4-f9b1-815b78ae39ff"
      },
      "execution_count": 178,
      "outputs": [
        {
          "output_type": "stream",
          "name": "stdout",
          "text": [
            "<class 'bool'>\n"
          ]
        }
      ]
    },
    {
      "cell_type": "code",
      "source": [
        "a=10\n",
        "b=11\n",
        "type(a==b)"
      ],
      "metadata": {
        "id": "4vK5Nky-HlnY",
        "colab": {
          "base_uri": "https://localhost:8080/"
        },
        "outputId": "76367afb-0bd6-4675-cec6-8aca02d26875"
      },
      "execution_count": 179,
      "outputs": [
        {
          "output_type": "execute_result",
          "data": {
            "text/plain": [
              "bool"
            ]
          },
          "metadata": {},
          "execution_count": 179
        }
      ]
    },
    {
      "cell_type": "code",
      "source": [
        "a=\"hello\"*5\n",
        "print(a,type(a))"
      ],
      "metadata": {
        "id": "FtgF29FsHywH",
        "colab": {
          "base_uri": "https://localhost:8080/"
        },
        "outputId": "9cedb509-c5d9-4fdd-ae44-6e95ec0c709e"
      },
      "execution_count": 180,
      "outputs": [
        {
          "output_type": "stream",
          "name": "stdout",
          "text": [
            "hellohellohellohellohello <class 'str'>\n"
          ]
        }
      ]
    },
    {
      "cell_type": "code",
      "source": [
        "b=\"hello\"+str(10)\n",
        "print(b)"
      ],
      "metadata": {
        "colab": {
          "base_uri": "https://localhost:8080/"
        },
        "id": "MF0bRRrv-yAR",
        "outputId": "b44be88e-c9ca-4e71-9174-f411c8864072"
      },
      "execution_count": 181,
      "outputs": [
        {
          "output_type": "stream",
          "name": "stdout",
          "text": [
            "hello10\n"
          ]
        }
      ]
    },
    {
      "cell_type": "code",
      "source": [
        " a = 10\n",
        " b = 5\n",
        "add= a+b\n",
        "sub= a-b\n",
        "mult= a*b\n",
        "div= a/b\n",
        "floor= a//b\n",
        "modulus= a%b\n",
        "exponent= a**b\n",
        "print(add)\n",
        "print(sub)\n",
        "print(mult)\n",
        "print(div)\n",
        "print(floor)\n",
        "print(modulus)\n",
        "print(exponent)"
      ],
      "metadata": {
        "colab": {
          "base_uri": "https://localhost:8080/"
        },
        "id": "wNCvWEzb-53L",
        "outputId": "54f15fa0-1d70-4acf-bcf9-618891ea1112"
      },
      "execution_count": 182,
      "outputs": [
        {
          "output_type": "stream",
          "name": "stdout",
          "text": [
            "15\n",
            "5\n",
            "50\n",
            "2.0\n",
            "2\n",
            "0\n",
            "100000\n"
          ]
        }
      ]
    },
    {
      "cell_type": "code",
      "source": [
        " a = 10\n",
        " b = 5\n",
        " print(a+b)\n",
        " print(a-b)\n",
        " print(a/b)"
      ],
      "metadata": {
        "colab": {
          "base_uri": "https://localhost:8080/"
        },
        "id": "gW68U9uK-5nd",
        "outputId": "d1016bb9-ef18-4af7-ffa1-d61069932900"
      },
      "execution_count": 183,
      "outputs": [
        {
          "output_type": "stream",
          "name": "stdout",
          "text": [
            "15\n",
            "5\n",
            "2.0\n"
          ]
        }
      ]
    },
    {
      "cell_type": "code",
      "source": [
        " a = 10\n",
        " b = 10.1\n",
        " a == b"
      ],
      "metadata": {
        "colab": {
          "base_uri": "https://localhost:8080/"
        },
        "id": "y923gv3b-5Ys",
        "outputId": "60ea6a72-fce7-45f8-c82e-9f59b45e6b3a"
      },
      "execution_count": 184,
      "outputs": [
        {
          "output_type": "execute_result",
          "data": {
            "text/plain": [
              "False"
            ]
          },
          "metadata": {},
          "execution_count": 184
        }
      ]
    },
    {
      "cell_type": "code",
      "source": [
        " str1 = \"Aman\"\n",
        " str2 = \"Aman\"\n",
        " print(str1 == str2)\n",
        " print(str1!=str2)"
      ],
      "metadata": {
        "colab": {
          "base_uri": "https://localhost:8080/"
        },
        "id": "J4MRySGa-5Fy",
        "outputId": "5a4c1083-3027-4156-81d4-f66afe590800"
      },
      "execution_count": 185,
      "outputs": [
        {
          "output_type": "stream",
          "name": "stdout",
          "text": [
            "True\n",
            "False\n"
          ]
        }
      ]
    },
    {
      "cell_type": "code",
      "source": [
        "x=True\n",
        "y=True\n",
        "r=x and y\n",
        "print(r)"
      ],
      "metadata": {
        "colab": {
          "base_uri": "https://localhost:8080/"
        },
        "id": "rdTKyj86_VxE",
        "outputId": "a9a56382-e2e7-42c2-cb9a-3fe9e8043c99"
      },
      "execution_count": 186,
      "outputs": [
        {
          "output_type": "stream",
          "name": "stdout",
          "text": [
            "True\n"
          ]
        }
      ]
    },
    {
      "cell_type": "code",
      "source": [
        "x=False\n",
        "y=True\n",
        "r=x and y\n",
        "print(r)"
      ],
      "metadata": {
        "colab": {
          "base_uri": "https://localhost:8080/"
        },
        "id": "zteTxHLn_bnp",
        "outputId": "9e35d447-119d-4cae-dacc-31d281b71559"
      },
      "execution_count": 187,
      "outputs": [
        {
          "output_type": "stream",
          "name": "stdout",
          "text": [
            "False\n"
          ]
        }
      ]
    },
    {
      "cell_type": "code",
      "source": [
        "x=False\n",
        "y=False\n",
        "print(x and y)"
      ],
      "metadata": {
        "colab": {
          "base_uri": "https://localhost:8080/"
        },
        "id": "KIf2CArc_gv5",
        "outputId": "3f901a2f-33c1-45ba-bca2-0ae707ddcc1b"
      },
      "execution_count": 188,
      "outputs": [
        {
          "output_type": "stream",
          "name": "stdout",
          "text": [
            "False\n"
          ]
        }
      ]
    },
    {
      "cell_type": "code",
      "source": [
        "x=False\n",
        "print(not x)"
      ],
      "metadata": {
        "colab": {
          "base_uri": "https://localhost:8080/"
        },
        "id": "xlE4VXDH_l5-",
        "outputId": "85aa2338-cefd-4d31-8dcc-00db1aa53ff6"
      },
      "execution_count": 189,
      "outputs": [
        {
          "output_type": "stream",
          "name": "stdout",
          "text": [
            "True\n"
          ]
        }
      ]
    },
    {
      "cell_type": "code",
      "source": [
        "age=15\n",
        "if age>=18:\n",
        "    print(\"you can vote\")\n",
        "else:\n",
        "    print(\"you can't vote\")"
      ],
      "metadata": {
        "colab": {
          "base_uri": "https://localhost:8080/"
        },
        "id": "C2lu6VBe_roT",
        "outputId": "cce08c0c-7b2d-4551-d792-85d8eb40bf73"
      },
      "execution_count": 190,
      "outputs": [
        {
          "output_type": "stream",
          "name": "stdout",
          "text": [
            "you can't vote\n"
          ]
        }
      ]
    },
    {
      "cell_type": "code",
      "source": [
        "age=int(input(\"Enter your age:\"))\n",
        "if age<=13:\n",
        "    print(\"child\")\n",
        "elif age>13 and age<25:\n",
        "    print(\"medium age \")\n",
        "else:\n",
        "    print(\"Adult person\")"
      ],
      "metadata": {
        "colab": {
          "base_uri": "https://localhost:8080/"
        },
        "id": "gUXVdGlc_ym2",
        "outputId": "d0a03801-dd87-4933-b545-a312a7234b4c"
      },
      "execution_count": 191,
      "outputs": [
        {
          "output_type": "stream",
          "name": "stdout",
          "text": [
            "Enter your age:24\n",
            "medium age \n"
          ]
        }
      ]
    },
    {
      "cell_type": "code",
      "source": [
        " num = 42\n",
        " if num%2==0:\n",
        "    print(\"Even\")\n",
        " else:\n",
        "    print(\"Odd\")\n"
      ],
      "metadata": {
        "colab": {
          "base_uri": "https://localhost:8080/"
        },
        "id": "3nmIuv2p_70R",
        "outputId": "2a0a2b56-5b98-49e9-8273-7c553a7b7295"
      },
      "execution_count": 192,
      "outputs": [
        {
          "output_type": "stream",
          "name": "stdout",
          "text": [
            "Even\n"
          ]
        }
      ]
    },
    {
      "cell_type": "code",
      "source": [
        "a=int(input(\"enter your number\"))\n",
        "if a>0:\n",
        "    print(\"+ve\")\n",
        "    if a%2==0:\n",
        "        print(\"even +ve number\")\n",
        "    else :\n",
        "        print(\"odd +ve number\")\n",
        "else:\n",
        "    print(\"0 or -ve number\")"
      ],
      "metadata": {
        "colab": {
          "base_uri": "https://localhost:8080/"
        },
        "id": "fgek3ikJAETP",
        "outputId": "da3a76c3-5d07-4c4c-e141-77ddecb8de9e"
      },
      "execution_count": 193,
      "outputs": [
        {
          "output_type": "stream",
          "name": "stdout",
          "text": [
            "enter your number34\n",
            "+ve\n",
            "even +ve number\n"
          ]
        }
      ]
    },
    {
      "cell_type": "code",
      "source": [
        "year=int(input(\"enter Your Year\"))\n",
        "if year%4==0:\n",
        "    if year%100:\n",
        "        if year%400:\n",
        "            print(\"Its a leap year\")\n",
        "        else:\n",
        "            print(\"Not a leap year\")\n",
        "    else:\n",
        "        print(\"Not a leap year\")\n",
        "else:\n",
        "    print(\"Not a leap year\")"
      ],
      "metadata": {
        "colab": {
          "base_uri": "https://localhost:8080/"
        },
        "id": "fhhT9hPJALGC",
        "outputId": "c8497c0c-09dd-46ea-b459-a9a2f4c93c8e"
      },
      "execution_count": 194,
      "outputs": [
        {
          "output_type": "stream",
          "name": "stdout",
          "text": [
            "enter Your Year1234\n",
            "Not a leap year\n"
          ]
        }
      ]
    },
    {
      "cell_type": "code",
      "source": [
        " num1 = float(input(\"Enter first number: \"))\n",
        " num2 = float(input(\"Enter second number: \"))\n",
        " operation = input(\"Enter operation (+, -, *, /): \")\n",
        "\n",
        " if operation == '+':\n",
        "    result = num1 + num2\n",
        " elif operation == '-':\n",
        "    result = num1 - num2\n",
        " elif operation == '*':\n",
        "    result = num1 * num2\n",
        " elif operation == '/':\n",
        "    if num2 != 0:\n",
        "        result = num1 / num2\n",
        "    else:\n",
        "        result = \"Error! Division by zero.\"\n",
        " else:\n",
        "    result = \"Invalid operation.\"\n",
        " print(\"Result:\", result)"
      ],
      "metadata": {
        "colab": {
          "base_uri": "https://localhost:8080/"
        },
        "id": "5SVCAgZJAaDC",
        "outputId": "d110bfc1-3f0e-4ba0-e924-c9bd354f41a2"
      },
      "execution_count": 195,
      "outputs": [
        {
          "output_type": "stream",
          "name": "stdout",
          "text": [
            "Enter first number: 12\n",
            "Enter second number: 23\n",
            "Enter operation (+, -, *, /): *\n",
            "Result: 276.0\n"
          ]
        }
      ]
    },
    {
      "cell_type": "code",
      "source": [
        "age=int(input(\"Enter your age:\"))\n",
        "is_stu=str(input(\"Are you  student?(Y or N)\")).lower()\n",
        "if age<5:\n",
        "    price=free\n",
        "elif age<=12:\n",
        "    price='$12'\n",
        "elif age<=17:\n",
        "    if is_stu=='y':\n",
        "        price='$14'\n",
        "    else:\n",
        "        price='$15'\n",
        "elif age<=64:\n",
        "    if is_stu=='y':\n",
        "        price='$24'\n",
        "    else:\n",
        "        price='$29'\n",
        "else:\n",
        "    price='$50'\n",
        "print(\"Ticket Price is\", price)"
      ],
      "metadata": {
        "colab": {
          "base_uri": "https://localhost:8080/"
        },
        "id": "dWR3TUm2AZ7F",
        "outputId": "e7d49109-33b0-4cea-aab5-097b9e99b5e3"
      },
      "execution_count": 196,
      "outputs": [
        {
          "output_type": "stream",
          "name": "stdout",
          "text": [
            "Enter your age:23\n",
            "Are you  student?(Y or N)Y\n",
            "Ticket Price is $24\n"
          ]
        }
      ]
    },
    {
      "cell_type": "code",
      "source": [
        "stored_u='gaurav0507'\n",
        "stored_password='baghel05'\n",
        "input_u=str(input(\"Enter your username:\"))\n",
        "input_password=str(input(\"Enter your password:\"))\n",
        "if input_u==stored_u:\n",
        "    if input_password==stored_password:\n",
        "        print(\"login successfull\")\n",
        "    else:\n",
        "        print(\"password incorrect\")\n",
        "else:\n",
        "    print(\"No user found\")"
      ],
      "metadata": {
        "colab": {
          "base_uri": "https://localhost:8080/"
        },
        "id": "ns4qVFrJAZzS",
        "outputId": "c7232e1e-2bff-44d8-f0da-488455cdaa77"
      },
      "execution_count": 197,
      "outputs": [
        {
          "output_type": "stream",
          "name": "stdout",
          "text": [
            "Enter your username:gaurav0507\n",
            "Enter your password:baghel05\n",
            "login successfull\n"
          ]
        }
      ]
    },
    {
      "cell_type": "markdown",
      "source": [
        "#Loops"
      ],
      "metadata": {
        "id": "fTcvVyg5BMVL"
      }
    },
    {
      "cell_type": "code",
      "source": [
        "range(5)\n",
        "range(0, 5)\n",
        "for i in range(0,5):\n",
        "    print(i)"
      ],
      "metadata": {
        "colab": {
          "base_uri": "https://localhost:8080/"
        },
        "id": "vqS9fdEdAZrx",
        "outputId": "ee20fcb9-df93-403b-da37-797900609fbb"
      },
      "execution_count": 198,
      "outputs": [
        {
          "output_type": "stream",
          "name": "stdout",
          "text": [
            "0\n",
            "1\n",
            "2\n",
            "3\n",
            "4\n"
          ]
        }
      ]
    },
    {
      "cell_type": "code",
      "source": [
        "for i in range(0,5):\n",
        "    print(\"Gaurav\",i)"
      ],
      "metadata": {
        "colab": {
          "base_uri": "https://localhost:8080/"
        },
        "id": "yORyGbeTAZEd",
        "outputId": "c6aff424-14c0-40d6-dd07-b0d0d2900371"
      },
      "execution_count": 199,
      "outputs": [
        {
          "output_type": "stream",
          "name": "stdout",
          "text": [
            "Gaurav 0\n",
            "Gaurav 1\n",
            "Gaurav 2\n",
            "Gaurav 3\n",
            "Gaurav 4\n"
          ]
        }
      ]
    },
    {
      "cell_type": "code",
      "source": [
        "for i in range(1,10,-1):\n",
        "    print(i)\n",
        "for i in range(10,1,-1):\n",
        "    print(i)"
      ],
      "metadata": {
        "colab": {
          "base_uri": "https://localhost:8080/"
        },
        "id": "hZC-YT-vBskS",
        "outputId": "b0db55b0-3fd9-4d5b-af3f-afbd7ef7ad21"
      },
      "execution_count": 200,
      "outputs": [
        {
          "output_type": "stream",
          "name": "stdout",
          "text": [
            "10\n",
            "9\n",
            "8\n",
            "7\n",
            "6\n",
            "5\n",
            "4\n",
            "3\n",
            "2\n"
          ]
        }
      ]
    },
    {
      "cell_type": "code",
      "source": [
        "name =\"Gaurav\"\n",
        "for i in name:\n",
        "    print(i)"
      ],
      "metadata": {
        "colab": {
          "base_uri": "https://localhost:8080/"
        },
        "id": "564L4UFBBsa8",
        "outputId": "b41dd16a-e1a7-4ee9-ccd8-3085bcbf5df7"
      },
      "execution_count": 201,
      "outputs": [
        {
          "output_type": "stream",
          "name": "stdout",
          "text": [
            "G\n",
            "a\n",
            "u\n",
            "r\n",
            "a\n",
            "v\n"
          ]
        }
      ]
    },
    {
      "cell_type": "code",
      "source": [
        " count=0\n",
        " while count<5:\n",
        "    print(count)\n",
        "    count=count+1"
      ],
      "metadata": {
        "colab": {
          "base_uri": "https://localhost:8080/"
        },
        "id": "pLZlnLMWBsQa",
        "outputId": "5ffaa46c-262c-4731-b0be-032ff065fb10"
      },
      "execution_count": 202,
      "outputs": [
        {
          "output_type": "stream",
          "name": "stdout",
          "text": [
            "0\n",
            "1\n",
            "2\n",
            "3\n",
            "4\n"
          ]
        }
      ]
    },
    {
      "cell_type": "code",
      "source": [
        "help(range)"
      ],
      "metadata": {
        "colab": {
          "base_uri": "https://localhost:8080/"
        },
        "id": "SKtkHLAACRst",
        "outputId": "241efe63-a663-47a2-b3f4-8739966763b2"
      },
      "execution_count": 203,
      "outputs": [
        {
          "output_type": "stream",
          "name": "stdout",
          "text": [
            "Help on class range in module builtins:\n",
            "\n",
            "class range(object)\n",
            " |  range(stop) -> range object\n",
            " |  range(start, stop[, step]) -> range object\n",
            " |  \n",
            " |  Return an object that produces a sequence of integers from start (inclusive)\n",
            " |  to stop (exclusive) by step.  range(i, j) produces i, i+1, i+2, ..., j-1.\n",
            " |  start defaults to 0, and stop is omitted!  range(4) produces 0, 1, 2, 3.\n",
            " |  These are exactly the valid indices for a list of 4 elements.\n",
            " |  When step is given, it specifies the increment (or decrement).\n",
            " |  \n",
            " |  Methods defined here:\n",
            " |  \n",
            " |  __bool__(self, /)\n",
            " |      True if self else False\n",
            " |  \n",
            " |  __contains__(self, key, /)\n",
            " |      Return key in self.\n",
            " |  \n",
            " |  __eq__(self, value, /)\n",
            " |      Return self==value.\n",
            " |  \n",
            " |  __ge__(self, value, /)\n",
            " |      Return self>=value.\n",
            " |  \n",
            " |  __getattribute__(self, name, /)\n",
            " |      Return getattr(self, name).\n",
            " |  \n",
            " |  __getitem__(self, key, /)\n",
            " |      Return self[key].\n",
            " |  \n",
            " |  __gt__(self, value, /)\n",
            " |      Return self>value.\n",
            " |  \n",
            " |  __hash__(self, /)\n",
            " |      Return hash(self).\n",
            " |  \n",
            " |  __iter__(self, /)\n",
            " |      Implement iter(self).\n",
            " |  \n",
            " |  __le__(self, value, /)\n",
            " |      Return self<=value.\n",
            " |  \n",
            " |  __len__(self, /)\n",
            " |      Return len(self).\n",
            " |  \n",
            " |  __lt__(self, value, /)\n",
            " |      Return self<value.\n",
            " |  \n",
            " |  __ne__(self, value, /)\n",
            " |      Return self!=value.\n",
            " |  \n",
            " |  __reduce__(...)\n",
            " |      Helper for pickle.\n",
            " |  \n",
            " |  __repr__(self, /)\n",
            " |      Return repr(self).\n",
            " |  \n",
            " |  __reversed__(...)\n",
            " |      Return a reverse iterator.\n",
            " |  \n",
            " |  count(...)\n",
            " |      rangeobject.count(value) -> integer -- return number of occurrences of value\n",
            " |  \n",
            " |  index(...)\n",
            " |      rangeobject.index(value) -> integer -- return index of value.\n",
            " |      Raise ValueError if the value is not present.\n",
            " |  \n",
            " |  ----------------------------------------------------------------------\n",
            " |  Static methods defined here:\n",
            " |  \n",
            " |  __new__(*args, **kwargs)\n",
            " |      Create and return a new object.  See help(type) for accurate signature.\n",
            " |  \n",
            " |  ----------------------------------------------------------------------\n",
            " |  Data descriptors defined here:\n",
            " |  \n",
            " |  start\n",
            " |  \n",
            " |  step\n",
            " |  \n",
            " |  stop\n",
            "\n"
          ]
        }
      ]
    },
    {
      "cell_type": "code",
      "source": [
        "for i in range(10):\n",
        "    if i==5:\n",
        "        break\n",
        "    print(i)"
      ],
      "metadata": {
        "colab": {
          "base_uri": "https://localhost:8080/"
        },
        "id": "Xy9WDuaaCfap",
        "outputId": "2353d3b3-7843-49b9-dbf8-fd12d7240bf6"
      },
      "execution_count": 204,
      "outputs": [
        {
          "output_type": "stream",
          "name": "stdout",
          "text": [
            "0\n",
            "1\n",
            "2\n",
            "3\n",
            "4\n"
          ]
        }
      ]
    },
    {
      "cell_type": "code",
      "source": [
        "for i in range(10):\n",
        "    if i%2==0:\n",
        "        continue\n",
        "    print(i)"
      ],
      "metadata": {
        "colab": {
          "base_uri": "https://localhost:8080/"
        },
        "id": "CwhK84ACCkg2",
        "outputId": "e68f2b1d-3684-4a04-879f-75e5e6e86c80"
      },
      "execution_count": 205,
      "outputs": [
        {
          "output_type": "stream",
          "name": "stdout",
          "text": [
            "1\n",
            "3\n",
            "5\n",
            "7\n",
            "9\n"
          ]
        }
      ]
    },
    {
      "cell_type": "code",
      "source": [
        " n=10\n",
        " sum=0\n",
        " count=1\n",
        " while count<=n:\n",
        "    sum=sum+count\n",
        "    count=count+1\n",
        " print(\"Sum of first 10 natural number:\",sum)"
      ],
      "metadata": {
        "colab": {
          "base_uri": "https://localhost:8080/"
        },
        "id": "6R8GDrWhCsdI",
        "outputId": "ad5d728c-eed7-40df-9919-f2f99003b1e9"
      },
      "execution_count": 206,
      "outputs": [
        {
          "output_type": "stream",
          "name": "stdout",
          "text": [
            "Sum of first 10 natural number: 55\n"
          ]
        }
      ]
    },
    {
      "cell_type": "code",
      "source": [
        "n=10\n",
        "sum=0\n",
        "for i in range(11):\n",
        "    sum=sum+i\n",
        "print(sum)"
      ],
      "metadata": {
        "colab": {
          "base_uri": "https://localhost:8080/"
        },
        "id": "g0hXVQKTCzAE",
        "outputId": "f915847e-bd15-4633-9405-b1b78b720510"
      },
      "execution_count": 207,
      "outputs": [
        {
          "output_type": "stream",
          "name": "stdout",
          "text": [
            "55\n"
          ]
        }
      ]
    },
    {
      "cell_type": "code",
      "source": [
        "n=int(input(\"Enter any number:\"))\n",
        "for i in range(1,11):\n",
        "    print(f\"{n}*{i}={n*i}\")"
      ],
      "metadata": {
        "colab": {
          "base_uri": "https://localhost:8080/"
        },
        "id": "CdPODNl0C3fr",
        "outputId": "9d824890-4cd5-4443-bccf-e6a6ff1b2eb0"
      },
      "execution_count": 208,
      "outputs": [
        {
          "output_type": "stream",
          "name": "stdout",
          "text": [
            "Enter any number:3\n",
            "3*1=3\n",
            "3*2=6\n",
            "3*3=9\n",
            "3*4=12\n",
            "3*5=15\n",
            "3*6=18\n",
            "3*7=21\n",
            "3*8=24\n",
            "3*9=27\n",
            "3*10=30\n"
          ]
        }
      ]
    },
    {
      "cell_type": "code",
      "source": [
        "for num in range(1,101):\n",
        "    if num>1:\n",
        "        for i in range(2,num):\n",
        "            if num%i==0:\n",
        "                break\n",
        "        else:\n",
        "            print(num)"
      ],
      "metadata": {
        "colab": {
          "base_uri": "https://localhost:8080/"
        },
        "id": "mlRkCHheDALw",
        "outputId": "29e5088d-9579-492a-b5ad-c2a7958f8077"
      },
      "execution_count": 209,
      "outputs": [
        {
          "output_type": "stream",
          "name": "stdout",
          "text": [
            "2\n",
            "3\n",
            "5\n",
            "7\n",
            "11\n",
            "13\n",
            "17\n",
            "19\n",
            "23\n",
            "29\n",
            "31\n",
            "37\n",
            "41\n",
            "43\n",
            "47\n",
            "53\n",
            "59\n",
            "61\n",
            "67\n",
            "71\n",
            "73\n",
            "79\n",
            "83\n",
            "89\n",
            "97\n"
          ]
        }
      ]
    },
    {
      "cell_type": "markdown",
      "source": [
        "#List"
      ],
      "metadata": {
        "id": "WaSvKb5DDKc_"
      }
    },
    {
      "cell_type": "code",
      "source": [
        "fruits=[\"apple\", \"banana\",\"cherry\",\"kiwi\",\"gauva\"]\n",
        "\n",
        "print(fruits[0])\n",
        "print(fruits[1])\n",
        "print(fruits[4])\n",
        "print(fruits[-1])"
      ],
      "metadata": {
        "colab": {
          "base_uri": "https://localhost:8080/"
        },
        "id": "4p7OAPR9DG8w",
        "outputId": "cd76a4fa-ca9e-4e49-9f01-d9a3913eff07"
      },
      "execution_count": 219,
      "outputs": [
        {
          "output_type": "stream",
          "name": "stdout",
          "text": [
            "apple\n",
            "banana\n",
            "gauva\n",
            "gauva\n"
          ]
        }
      ]
    },
    {
      "cell_type": "code",
      "source": [
        "fruits[0:4]\n",
        "print(fruits[1:])\n",
        "print(fruits[1:3])\n",
        "print(fruits[:3])\n",
        "print(fruits[:])\n",
        "print(fruits[::-1])"
      ],
      "metadata": {
        "colab": {
          "base_uri": "https://localhost:8080/"
        },
        "id": "YJ_pQQW-DZNF",
        "outputId": "89d8af9a-2f0c-4bb4-cd79-23cff8f80d8b"
      },
      "execution_count": 211,
      "outputs": [
        {
          "output_type": "stream",
          "name": "stdout",
          "text": [
            "['banana', 'cherry', 'kiwi', 'gauva']\n",
            "['banana', 'cherry']\n",
            "['apple', 'banana', 'cherry']\n",
            "['apple', 'banana', 'cherry', 'kiwi', 'gauva']\n",
            "['gauva', 'kiwi', 'cherry', 'banana', 'apple']\n"
          ]
        }
      ]
    },
    {
      "cell_type": "code",
      "source": [
        "fruits[1]"
      ],
      "metadata": {
        "colab": {
          "base_uri": "https://localhost:8080/",
          "height": 35
        },
        "id": "qVrbkY-2DiXv",
        "outputId": "d795f505-deb6-4547-b606-bfd9baafe632"
      },
      "execution_count": 212,
      "outputs": [
        {
          "output_type": "execute_result",
          "data": {
            "text/plain": [
              "'banana'"
            ],
            "application/vnd.google.colaboratory.intrinsic+json": {
              "type": "string"
            }
          },
          "metadata": {},
          "execution_count": 212
        }
      ]
    },
    {
      "cell_type": "code",
      "source": [
        "fruits[1] = \"watermelon\"\n",
        "print(fruits)"
      ],
      "metadata": {
        "colab": {
          "base_uri": "https://localhost:8080/"
        },
        "id": "F8fnnw86DpNc",
        "outputId": "ec67c7b4-5a19-43dc-8b9c-7a3ab8d2a22c"
      },
      "execution_count": 213,
      "outputs": [
        {
          "output_type": "stream",
          "name": "stdout",
          "text": [
            "['apple', 'watermelon', 'cherry', 'kiwi', 'gauva']\n"
          ]
        }
      ]
    },
    {
      "cell_type": "code",
      "source": [
        "fruits[1:] = \"watermelon\"\n",
        "fruits"
      ],
      "metadata": {
        "colab": {
          "base_uri": "https://localhost:8080/"
        },
        "id": "ad_uszRyDveK",
        "outputId": "f00ce74b-e3f4-4edb-b307-ea7cc3f3b89f"
      },
      "execution_count": 214,
      "outputs": [
        {
          "output_type": "execute_result",
          "data": {
            "text/plain": [
              "['apple', 'w', 'a', 't', 'e', 'r', 'm', 'e', 'l', 'o', 'n']"
            ]
          },
          "metadata": {},
          "execution_count": 214
        }
      ]
    },
    {
      "cell_type": "code",
      "source": [
        "fruits[1:3] = \"watermelon\"\n",
        "fruits"
      ],
      "metadata": {
        "colab": {
          "base_uri": "https://localhost:8080/"
        },
        "id": "9rBtdqQID3Ns",
        "outputId": "0c479212-9062-4d6c-ee81-f277c35a906a"
      },
      "execution_count": 215,
      "outputs": [
        {
          "output_type": "execute_result",
          "data": {
            "text/plain": [
              "['apple',\n",
              " 'w',\n",
              " 'a',\n",
              " 't',\n",
              " 'e',\n",
              " 'r',\n",
              " 'm',\n",
              " 'e',\n",
              " 'l',\n",
              " 'o',\n",
              " 'n',\n",
              " 't',\n",
              " 'e',\n",
              " 'r',\n",
              " 'm',\n",
              " 'e',\n",
              " 'l',\n",
              " 'o',\n",
              " 'n']"
            ]
          },
          "metadata": {},
          "execution_count": 215
        }
      ]
    },
    {
      "cell_type": "code",
      "source": [
        "fruits.append(\"orange\")\n",
        "fruits"
      ],
      "metadata": {
        "colab": {
          "base_uri": "https://localhost:8080/"
        },
        "id": "CP_Tufo5E2A2",
        "outputId": "21055016-827f-4dd3-d135-1e57364eaeee"
      },
      "execution_count": 216,
      "outputs": [
        {
          "output_type": "execute_result",
          "data": {
            "text/plain": [
              "['apple',\n",
              " 'w',\n",
              " 'a',\n",
              " 't',\n",
              " 'e',\n",
              " 'r',\n",
              " 'm',\n",
              " 'e',\n",
              " 'l',\n",
              " 'o',\n",
              " 'n',\n",
              " 't',\n",
              " 'e',\n",
              " 'r',\n",
              " 'm',\n",
              " 'e',\n",
              " 'l',\n",
              " 'o',\n",
              " 'n',\n",
              " 'orange']"
            ]
          },
          "metadata": {},
          "execution_count": 216
        }
      ]
    },
    {
      "cell_type": "code",
      "source": [
        "fruits.insert(1,\"watermelon\")\n",
        "print(fruits)"
      ],
      "metadata": {
        "colab": {
          "base_uri": "https://localhost:8080/"
        },
        "id": "Yt7MmkBwFGw2",
        "outputId": "a6144f83-d01d-49cc-ff14-38a689e926fe"
      },
      "execution_count": 225,
      "outputs": [
        {
          "output_type": "stream",
          "name": "stdout",
          "text": [
            "['apple', 'watermelon', 'cherry', 'banana', 'kiwi']\n"
          ]
        }
      ]
    },
    {
      "cell_type": "code",
      "source": [
        "fruits.remove(\"banana\")\n",
        "fruits"
      ],
      "metadata": {
        "colab": {
          "base_uri": "https://localhost:8080/"
        },
        "id": "_mds5-pEFLsC",
        "outputId": "4986f86b-9ba7-4dba-d3e8-de14a1af0b87"
      },
      "execution_count": 220,
      "outputs": [
        {
          "output_type": "execute_result",
          "data": {
            "text/plain": [
              "['apple', 'cherry', 'kiwi', 'gauva']"
            ]
          },
          "metadata": {},
          "execution_count": 220
        }
      ]
    },
    {
      "cell_type": "code",
      "source": [
        " popped_fruits=fruits.pop()\n",
        " print(fruits)\n",
        " print(popped_fruits)"
      ],
      "metadata": {
        "colab": {
          "base_uri": "https://localhost:8080/"
        },
        "id": "hDanZr1sFQ9p",
        "outputId": "9306e7a8-59ae-4907-99f4-002262feafd5"
      },
      "execution_count": 221,
      "outputs": [
        {
          "output_type": "stream",
          "name": "stdout",
          "text": [
            "['apple', 'cherry', 'kiwi']\n",
            "gauva\n"
          ]
        }
      ]
    },
    {
      "cell_type": "code",
      "source": [
        "index=fruits.index(\"cherry\")\n",
        "print(index)"
      ],
      "metadata": {
        "colab": {
          "base_uri": "https://localhost:8080/"
        },
        "id": "eOLHJOaiFXqe",
        "outputId": "b080d7b6-e16d-4696-8f27-e5a2450a3794"
      },
      "execution_count": 222,
      "outputs": [
        {
          "output_type": "stream",
          "name": "stdout",
          "text": [
            "1\n"
          ]
        }
      ]
    },
    {
      "cell_type": "code",
      "source": [
        "fruits.insert(2,\"banana\")\n",
        "fruits"
      ],
      "metadata": {
        "colab": {
          "base_uri": "https://localhost:8080/"
        },
        "id": "0vmbXCZDFcxy",
        "outputId": "b72d13ca-c294-49ab-99c2-7edd18b2a1fc"
      },
      "execution_count": 223,
      "outputs": [
        {
          "output_type": "execute_result",
          "data": {
            "text/plain": [
              "['apple', 'cherry', 'banana', 'kiwi']"
            ]
          },
          "metadata": {},
          "execution_count": 223
        }
      ]
    },
    {
      "cell_type": "code",
      "source": [
        "print(fruits.count(\"banana\"))"
      ],
      "metadata": {
        "colab": {
          "base_uri": "https://localhost:8080/"
        },
        "id": "ExT9KfU4Fixq",
        "outputId": "24be4490-3a28-437d-e755-3d54e966324d"
      },
      "execution_count": 224,
      "outputs": [
        {
          "output_type": "stream",
          "name": "stdout",
          "text": [
            "1\n"
          ]
        }
      ]
    },
    {
      "cell_type": "code",
      "source": [
        "fruits.append(\"avocado\")\n",
        "fruits.sort()\n",
        "fruits"
      ],
      "metadata": {
        "colab": {
          "base_uri": "https://localhost:8080/"
        },
        "id": "nDk5AwFRFqpS",
        "outputId": "d9eb7011-d8d2-41d5-ce9e-cbf3c5330b5b"
      },
      "execution_count": 226,
      "outputs": [
        {
          "output_type": "execute_result",
          "data": {
            "text/plain": [
              "['apple', 'avocado', 'banana', 'cherry', 'kiwi', 'watermelon']"
            ]
          },
          "metadata": {},
          "execution_count": 226
        }
      ]
    },
    {
      "cell_type": "code",
      "source": [
        "fruits.reverse()\n",
        "fruits"
      ],
      "metadata": {
        "colab": {
          "base_uri": "https://localhost:8080/"
        },
        "id": "t601T8BRFvBY",
        "outputId": "0abf37c5-752a-4b66-fd8b-dffe5760bcb4"
      },
      "execution_count": 229,
      "outputs": [
        {
          "output_type": "execute_result",
          "data": {
            "text/plain": [
              "[]"
            ]
          },
          "metadata": {},
          "execution_count": 229
        }
      ]
    },
    {
      "cell_type": "code",
      "source": [
        "fruits.clear()\n",
        "fruits"
      ],
      "metadata": {
        "colab": {
          "base_uri": "https://localhost:8080/"
        },
        "id": "9OTCX28FF0qu",
        "outputId": "9ec9de59-e018-4fab-8fb0-9a2ecd69b9d6"
      },
      "execution_count": 230,
      "outputs": [
        {
          "output_type": "execute_result",
          "data": {
            "text/plain": [
              "[]"
            ]
          },
          "metadata": {},
          "execution_count": 230
        }
      ]
    },
    {
      "cell_type": "code",
      "source": [
        "x=[i for i in range(1,11)]\n",
        "x"
      ],
      "metadata": {
        "colab": {
          "base_uri": "https://localhost:8080/"
        },
        "id": "ifp9BVocF9Ju",
        "outputId": "4b4f480a-ddc4-4cd4-dfe5-f57349cd11f6"
      },
      "execution_count": 231,
      "outputs": [
        {
          "output_type": "execute_result",
          "data": {
            "text/plain": [
              "[1, 2, 3, 4, 5, 6, 7, 8, 9, 10]"
            ]
          },
          "metadata": {},
          "execution_count": 231
        }
      ]
    },
    {
      "cell_type": "code",
      "source": [
        "for number in x:\n",
        "    print(number)"
      ],
      "metadata": {
        "colab": {
          "base_uri": "https://localhost:8080/"
        },
        "id": "-g-j5c0YGBp_",
        "outputId": "175e819d-e20d-451e-e347-ef7364d5c97d"
      },
      "execution_count": 232,
      "outputs": [
        {
          "output_type": "stream",
          "name": "stdout",
          "text": [
            "1\n",
            "2\n",
            "3\n",
            "4\n",
            "5\n",
            "6\n",
            "7\n",
            "8\n",
            "9\n",
            "10\n"
          ]
        }
      ]
    },
    {
      "cell_type": "code",
      "source": [
        "for index, number in enumerate(x):\n",
        "    print(index,number)"
      ],
      "metadata": {
        "colab": {
          "base_uri": "https://localhost:8080/"
        },
        "id": "4QjX6ikPGIAM",
        "outputId": "405268e8-b766-4e96-c863-4de9ba9f063e"
      },
      "execution_count": 233,
      "outputs": [
        {
          "output_type": "stream",
          "name": "stdout",
          "text": [
            "0 1\n",
            "1 2\n",
            "2 3\n",
            "3 4\n",
            "4 5\n",
            "5 6\n",
            "6 7\n",
            "7 8\n",
            "8 9\n",
            "9 10\n"
          ]
        }
      ]
    },
    {
      "cell_type": "code",
      "source": [
        "x.count(2)"
      ],
      "metadata": {
        "colab": {
          "base_uri": "https://localhost:8080/"
        },
        "id": "HdH21aCXGuzg",
        "outputId": "9c18402e-cdb4-4111-a40a-ca5847c9ff3d"
      },
      "execution_count": 234,
      "outputs": [
        {
          "output_type": "execute_result",
          "data": {
            "text/plain": [
              "1"
            ]
          },
          "metadata": {},
          "execution_count": 234
        }
      ]
    },
    {
      "cell_type": "code",
      "source": [
        "len(x)"
      ],
      "metadata": {
        "colab": {
          "base_uri": "https://localhost:8080/"
        },
        "id": "Ln4rbObPG18W",
        "outputId": "55920824-95aa-407c-c02d-63776d1750d1"
      },
      "execution_count": 235,
      "outputs": [
        {
          "output_type": "execute_result",
          "data": {
            "text/plain": [
              "10"
            ]
          },
          "metadata": {},
          "execution_count": 235
        }
      ]
    },
    {
      "cell_type": "code",
      "source": [
        "lst=[]\n",
        "for x in range(1,11,2):\n",
        "   lst.append(x**2)\n",
        "print(lst)"
      ],
      "metadata": {
        "colab": {
          "base_uri": "https://localhost:8080/"
        },
        "id": "r7VvlrrTG7P2",
        "outputId": "67575a73-dae2-427a-9d3a-eb51d476f272"
      },
      "execution_count": 236,
      "outputs": [
        {
          "output_type": "stream",
          "name": "stdout",
          "text": [
            "[1, 9, 25, 49, 81]\n"
          ]
        }
      ]
    },
    {
      "cell_type": "markdown",
      "source": [
        "#Tuple"
      ],
      "metadata": {
        "id": "bYBVf-D1HEMB"
      }
    },
    {
      "cell_type": "code",
      "source": [
        " empty_tuple=()\n",
        " print(empty_tuple)\n",
        " print(type(empty_tuple))"
      ],
      "metadata": {
        "colab": {
          "base_uri": "https://localhost:8080/"
        },
        "id": "GKUnevzZHJHf",
        "outputId": "9cb0f372-ccd7-4a73-a0f2-43409c08b6a1"
      },
      "execution_count": 237,
      "outputs": [
        {
          "output_type": "stream",
          "name": "stdout",
          "text": [
            "()\n",
            "<class 'tuple'>\n"
          ]
        }
      ]
    },
    {
      "cell_type": "code",
      "source": [
        "tpl=tuple()\n",
        "print(type(tpl))"
      ],
      "metadata": {
        "colab": {
          "base_uri": "https://localhost:8080/"
        },
        "id": "yZUaSgseHJ-V",
        "outputId": "4d47a561-b0b5-44b1-ce6e-5ef31d64690f"
      },
      "execution_count": 238,
      "outputs": [
        {
          "output_type": "stream",
          "name": "stdout",
          "text": [
            "<class 'tuple'>\n"
          ]
        }
      ]
    },
    {
      "cell_type": "code",
      "source": [
        " tpl1 = (1,2,3,4,5)\n",
        " print(type(tpl1))"
      ],
      "metadata": {
        "colab": {
          "base_uri": "https://localhost:8080/"
        },
        "id": "_r2XGY7jHJrw",
        "outputId": "2a16d55e-7689-484e-bd0b-2b58314a5977"
      },
      "execution_count": 239,
      "outputs": [
        {
          "output_type": "stream",
          "name": "stdout",
          "text": [
            "<class 'tuple'>\n"
          ]
        }
      ]
    },
    {
      "cell_type": "code",
      "source": [
        " lst = [1,2,3,4,5]\n",
        " lst"
      ],
      "metadata": {
        "colab": {
          "base_uri": "https://localhost:8080/"
        },
        "id": "QDTNJ9_qHhug",
        "outputId": "3df870b2-0a18-4f29-c6d8-fc6f3aa03e09"
      },
      "execution_count": 240,
      "outputs": [
        {
          "output_type": "execute_result",
          "data": {
            "text/plain": [
              "[1, 2, 3, 4, 5]"
            ]
          },
          "metadata": {},
          "execution_count": 240
        }
      ]
    },
    {
      "cell_type": "code",
      "source": [
        "numbers=tuple(lst)\n",
        "numbers"
      ],
      "metadata": {
        "colab": {
          "base_uri": "https://localhost:8080/"
        },
        "id": "lc1ZQXtlHhiD",
        "outputId": "7bf9fa31-9287-4dc1-ed75-26dcb5a5cec3"
      },
      "execution_count": 241,
      "outputs": [
        {
          "output_type": "execute_result",
          "data": {
            "text/plain": [
              "(1, 2, 3, 4, 5)"
            ]
          },
          "metadata": {},
          "execution_count": 241
        }
      ]
    },
    {
      "cell_type": "code",
      "source": [
        "list(numbers)"
      ],
      "metadata": {
        "colab": {
          "base_uri": "https://localhost:8080/"
        },
        "id": "uI24QImOHhVS",
        "outputId": "0126ad50-d556-4932-ab38-0ad947bc19d7"
      },
      "execution_count": 242,
      "outputs": [
        {
          "output_type": "execute_result",
          "data": {
            "text/plain": [
              "[1, 2, 3, 4, 5]"
            ]
          },
          "metadata": {},
          "execution_count": 242
        }
      ]
    },
    {
      "cell_type": "code",
      "source": [
        "mixed_tuple=(1,\"Hello World\",3.14, True)\n",
        "print(mixed_tuple)"
      ],
      "metadata": {
        "colab": {
          "base_uri": "https://localhost:8080/"
        },
        "id": "kgl2hDCkHv7c",
        "outputId": "c8966ea9-aecb-46eb-f617-538689a4d49d"
      },
      "execution_count": 243,
      "outputs": [
        {
          "output_type": "stream",
          "name": "stdout",
          "text": [
            "(1, 'Hello World', 3.14, True)\n"
          ]
        }
      ]
    },
    {
      "cell_type": "code",
      "source": [
        "numbers"
      ],
      "metadata": {
        "colab": {
          "base_uri": "https://localhost:8080/"
        },
        "id": "Qc71oshlH2vK",
        "outputId": "92c39a98-3fb0-41c4-cdf2-dfede57a7826"
      },
      "execution_count": 244,
      "outputs": [
        {
          "output_type": "execute_result",
          "data": {
            "text/plain": [
              "(1, 2, 3, 4, 5)"
            ]
          },
          "metadata": {},
          "execution_count": 244
        }
      ]
    },
    {
      "cell_type": "code",
      "source": [
        " print(numbers[3])\n",
        " print(numbers[-1])"
      ],
      "metadata": {
        "colab": {
          "base_uri": "https://localhost:8080/"
        },
        "id": "ejsuU8FbH7gR",
        "outputId": "07267c0f-723b-4805-8ede-9f4c37f19a46"
      },
      "execution_count": 245,
      "outputs": [
        {
          "output_type": "stream",
          "name": "stdout",
          "text": [
            "4\n",
            "5\n"
          ]
        }
      ]
    },
    {
      "cell_type": "code",
      "source": [
        "numbers[0:4]"
      ],
      "metadata": {
        "colab": {
          "base_uri": "https://localhost:8080/"
        },
        "id": "i3oUx2J5H_5Q",
        "outputId": "1fc8f92f-0041-439c-81fc-ab47049fad1f"
      },
      "execution_count": 246,
      "outputs": [
        {
          "output_type": "execute_result",
          "data": {
            "text/plain": [
              "(1, 2, 3, 4)"
            ]
          },
          "metadata": {},
          "execution_count": 246
        }
      ]
    },
    {
      "cell_type": "code",
      "source": [
        "numbers[::-1]"
      ],
      "metadata": {
        "colab": {
          "base_uri": "https://localhost:8080/"
        },
        "id": "Wj7pRVomIEqn",
        "outputId": "4d4e87bf-ce16-44d3-bfcd-3b53fa721438"
      },
      "execution_count": 247,
      "outputs": [
        {
          "output_type": "execute_result",
          "data": {
            "text/plain": [
              "(5, 4, 3, 2, 1)"
            ]
          },
          "metadata": {},
          "execution_count": 247
        }
      ]
    },
    {
      "cell_type": "code",
      "source": [
        "numbers"
      ],
      "metadata": {
        "colab": {
          "base_uri": "https://localhost:8080/"
        },
        "id": "1qDbbVEjIJPo",
        "outputId": "cc618ac6-a10e-4983-8c37-c74310d896fa"
      },
      "execution_count": 248,
      "outputs": [
        {
          "output_type": "execute_result",
          "data": {
            "text/plain": [
              "(1, 2, 3, 4, 5)"
            ]
          },
          "metadata": {},
          "execution_count": 248
        }
      ]
    },
    {
      "cell_type": "code",
      "source": [
        "mixed_tuple"
      ],
      "metadata": {
        "colab": {
          "base_uri": "https://localhost:8080/"
        },
        "id": "1L4QCQBUIOpz",
        "outputId": "089ce801-919f-4d94-95c4-268a100a14ef"
      },
      "execution_count": 249,
      "outputs": [
        {
          "output_type": "execute_result",
          "data": {
            "text/plain": [
              "(1, 'Hello World', 3.14, True)"
            ]
          },
          "metadata": {},
          "execution_count": 249
        }
      ]
    },
    {
      "cell_type": "code",
      "source": [
        " concatenation_tuple=numbers + mixed_tuple\n",
        " print(concatenation_tuple)"
      ],
      "metadata": {
        "colab": {
          "base_uri": "https://localhost:8080/"
        },
        "id": "bELJzOgdITO6",
        "outputId": "b3d348dd-27b2-42f7-fa5d-3c1ce39c1c66"
      },
      "execution_count": 250,
      "outputs": [
        {
          "output_type": "stream",
          "name": "stdout",
          "text": [
            "(1, 2, 3, 4, 5, 1, 'Hello World', 3.14, True)\n"
          ]
        }
      ]
    },
    {
      "cell_type": "code",
      "source": [
        "mixed_tuple"
      ],
      "metadata": {
        "colab": {
          "base_uri": "https://localhost:8080/"
        },
        "id": "_jHhZjI6KCU-",
        "outputId": "d82fc0d3-3570-47dc-a2e4-ff23fa8be209"
      },
      "execution_count": 251,
      "outputs": [
        {
          "output_type": "execute_result",
          "data": {
            "text/plain": [
              "(1, 'Hello World', 3.14, True)"
            ]
          },
          "metadata": {},
          "execution_count": 251
        }
      ]
    },
    {
      "cell_type": "code",
      "source": [
        "mixed_tuple * 3"
      ],
      "metadata": {
        "colab": {
          "base_uri": "https://localhost:8080/"
        },
        "id": "mwmSbejoKHyb",
        "outputId": "942d9e1b-1dd8-45a5-d3dc-23b14824e3f0"
      },
      "execution_count": 252,
      "outputs": [
        {
          "output_type": "execute_result",
          "data": {
            "text/plain": [
              "(1,\n",
              " 'Hello World',\n",
              " 3.14,\n",
              " True,\n",
              " 1,\n",
              " 'Hello World',\n",
              " 3.14,\n",
              " True,\n",
              " 1,\n",
              " 'Hello World',\n",
              " 3.14,\n",
              " True)"
            ]
          },
          "metadata": {},
          "execution_count": 252
        }
      ]
    },
    {
      "cell_type": "code",
      "source": [
        "t=1,\"gaurav\",98\n",
        "print(t)"
      ],
      "metadata": {
        "colab": {
          "base_uri": "https://localhost:8080/"
        },
        "id": "0MLnpFIfKPPE",
        "outputId": "2376d420-5f5b-4b92-f7e8-b5df1d879817"
      },
      "execution_count": 253,
      "outputs": [
        {
          "output_type": "stream",
          "name": "stdout",
          "text": [
            "(1, 'gaurav', 98)\n"
          ]
        }
      ]
    },
    {
      "cell_type": "code",
      "source": [
        "a,b,c=t\n",
        "print(a)\n",
        "print(b)\n",
        "print(c)"
      ],
      "metadata": {
        "colab": {
          "base_uri": "https://localhost:8080/"
        },
        "id": "QL2ijoF-KX0c",
        "outputId": "84cb5f45-63a7-4889-cf40-e8a3c87db50b"
      },
      "execution_count": 254,
      "outputs": [
        {
          "output_type": "stream",
          "name": "stdout",
          "text": [
            "1\n",
            "gaurav\n",
            "98\n"
          ]
        }
      ]
    },
    {
      "cell_type": "code",
      "source": [
        " numbers = (1,2,3,4,5,6)\n",
        " first, *middle, last = numbers\n",
        " print(first)\n",
        " print(middle)\n",
        " print(last)"
      ],
      "metadata": {
        "colab": {
          "base_uri": "https://localhost:8080/"
        },
        "id": "1RrxFKaAKXkO",
        "outputId": "d7b3bfb6-56cd-4a3c-e006-e65d9b2fa81d"
      },
      "execution_count": 255,
      "outputs": [
        {
          "output_type": "stream",
          "name": "stdout",
          "text": [
            "1\n",
            "[2, 3, 4, 5]\n",
            "6\n"
          ]
        }
      ]
    },
    {
      "cell_type": "code",
      "source": [
        " lst=[[1,2,3,4],[6,7,8,9],[1,\"Hello\",3.14,\"c\"]]\n",
        " lst"
      ],
      "metadata": {
        "colab": {
          "base_uri": "https://localhost:8080/"
        },
        "id": "-DqVfzRiKt6S",
        "outputId": "b2774809-2c4c-4b09-fa00-a08bee45f2c9"
      },
      "execution_count": 256,
      "outputs": [
        {
          "output_type": "execute_result",
          "data": {
            "text/plain": [
              "[[1, 2, 3, 4], [6, 7, 8, 9], [1, 'Hello', 3.14, 'c']]"
            ]
          },
          "metadata": {},
          "execution_count": 256
        }
      ]
    },
    {
      "cell_type": "code",
      "source": [
        "lst[0]"
      ],
      "metadata": {
        "colab": {
          "base_uri": "https://localhost:8080/"
        },
        "id": "h8mA4r36K0CR",
        "outputId": "dcfe1943-f31d-48f1-a6af-31f870ffb220"
      },
      "execution_count": 257,
      "outputs": [
        {
          "output_type": "execute_result",
          "data": {
            "text/plain": [
              "[1, 2, 3, 4]"
            ]
          },
          "metadata": {},
          "execution_count": 257
        }
      ]
    },
    {
      "cell_type": "code",
      "source": [
        " lst=[[1,2,3,4],[6,7,8,9],(1,\"Hello\",3.14,\"c\")]\n",
        " lst"
      ],
      "metadata": {
        "colab": {
          "base_uri": "https://localhost:8080/"
        },
        "id": "ukCCkE2RK3nW",
        "outputId": "7cac0148-c8c5-431e-8a54-5972821f8cae"
      },
      "execution_count": 258,
      "outputs": [
        {
          "output_type": "execute_result",
          "data": {
            "text/plain": [
              "[[1, 2, 3, 4], [6, 7, 8, 9], (1, 'Hello', 3.14, 'c')]"
            ]
          },
          "metadata": {},
          "execution_count": 258
        }
      ]
    },
    {
      "cell_type": "code",
      "source": [
        "lst[2][0:3]"
      ],
      "metadata": {
        "colab": {
          "base_uri": "https://localhost:8080/"
        },
        "id": "XU636WzOK9xf",
        "outputId": "65e8f94c-33a9-4321-cce4-95386c200d11"
      },
      "execution_count": 259,
      "outputs": [
        {
          "output_type": "execute_result",
          "data": {
            "text/plain": [
              "(1, 'Hello', 3.14)"
            ]
          },
          "metadata": {},
          "execution_count": 259
        }
      ]
    },
    {
      "cell_type": "code",
      "source": [
        " nested_tuple = ((1, 1, 2, 3, 2), (\"a\", \"b\", \"c\"), (True, False))\n",
        " print(nested_tuple[0])\n",
        " print(nested_tuple[1][2])"
      ],
      "metadata": {
        "colab": {
          "base_uri": "https://localhost:8080/"
        },
        "id": "VbO5a4kVK9kj",
        "outputId": "1ac36ad4-57e8-45ae-bd06-22efe4447b9a"
      },
      "execution_count": 260,
      "outputs": [
        {
          "output_type": "stream",
          "name": "stdout",
          "text": [
            "(1, 1, 2, 3, 2)\n",
            "c\n"
          ]
        }
      ]
    },
    {
      "cell_type": "code",
      "source": [
        " for sub_tuple in nested_tuple:\n",
        "     for item in sub_tuple:\n",
        "         print(item,end=\" \")\n",
        "     print()"
      ],
      "metadata": {
        "colab": {
          "base_uri": "https://localhost:8080/"
        },
        "id": "VJ2mRPtGK9VY",
        "outputId": "a83a411d-9c15-42c6-f82a-0985c116dc49"
      },
      "execution_count": 261,
      "outputs": [
        {
          "output_type": "stream",
          "name": "stdout",
          "text": [
            "1 1 2 3 2 \n",
            "a b c \n",
            "True False \n"
          ]
        }
      ]
    },
    {
      "cell_type": "markdown",
      "source": [
        "#Dictionary"
      ],
      "metadata": {
        "id": "Oz2oT_PCLT5W"
      }
    },
    {
      "cell_type": "code",
      "source": [
        " student={\"name\":\"Sunny\", \"age\":17, \"grade\":11}\n",
        " print(student)\n",
        " print(type(student))"
      ],
      "metadata": {
        "colab": {
          "base_uri": "https://localhost:8080/"
        },
        "id": "aZzGXk3MLO-f",
        "outputId": "ec9d4f48-1421-4b0c-faa6-e02c4c1b09e1"
      },
      "execution_count": 262,
      "outputs": [
        {
          "output_type": "stream",
          "name": "stdout",
          "text": [
            "{'name': 'Sunny', 'age': 17, 'grade': 11}\n",
            "<class 'dict'>\n"
          ]
        }
      ]
    },
    {
      "cell_type": "code",
      "source": [
        " student={\"name\":\"Sunny\", \"age\":17, \"name\":24}\n",
        " print(student)"
      ],
      "metadata": {
        "colab": {
          "base_uri": "https://localhost:8080/"
        },
        "id": "MtoEJXpsLOyz",
        "outputId": "be3e38ee-e885-4ae8-f60c-e88b407e10ff"
      },
      "execution_count": 263,
      "outputs": [
        {
          "output_type": "stream",
          "name": "stdout",
          "text": [
            "{'name': 24, 'age': 17}\n"
          ]
        }
      ]
    },
    {
      "cell_type": "code",
      "source": [
        " student={\"name\":\"Honey\",\"age\":32,\"grade\":'A'}\n",
        " print(student)"
      ],
      "metadata": {
        "colab": {
          "base_uri": "https://localhost:8080/"
        },
        "id": "1MPI6kVuLOnI",
        "outputId": "fcfa64de-d32b-4ded-ca51-21c1c857078f"
      },
      "execution_count": 264,
      "outputs": [
        {
          "output_type": "stream",
          "name": "stdout",
          "text": [
            "{'name': 'Honey', 'age': 32, 'grade': 'A'}\n"
          ]
        }
      ]
    },
    {
      "cell_type": "code",
      "source": [
        " print(student['grade'])\n",
        " print(student['age'])"
      ],
      "metadata": {
        "colab": {
          "base_uri": "https://localhost:8080/"
        },
        "id": "t92Jsrj7LOFK",
        "outputId": "f260d656-4042-4fcd-eede-34161ceec353"
      },
      "execution_count": 265,
      "outputs": [
        {
          "output_type": "stream",
          "name": "stdout",
          "text": [
            "A\n",
            "32\n"
          ]
        }
      ]
    },
    {
      "cell_type": "code",
      "source": [
        "print(student.get('grade'))"
      ],
      "metadata": {
        "colab": {
          "base_uri": "https://localhost:8080/"
        },
        "id": "IZuT7CYiLp44",
        "outputId": "2f1e253d-078c-41d1-b045-77b8ad63d085"
      },
      "execution_count": 266,
      "outputs": [
        {
          "output_type": "stream",
          "name": "stdout",
          "text": [
            "A\n"
          ]
        }
      ]
    },
    {
      "cell_type": "code",
      "source": [
        "print(student.get('last_name'))"
      ],
      "metadata": {
        "colab": {
          "base_uri": "https://localhost:8080/"
        },
        "id": "cqivUwLELprn",
        "outputId": "c3d52db5-74e0-4235-b8c9-dbcec7a979ef"
      },
      "execution_count": 267,
      "outputs": [
        {
          "output_type": "stream",
          "name": "stdout",
          "text": [
            "None\n"
          ]
        }
      ]
    },
    {
      "cell_type": "code",
      "source": [
        "print(student.get('last_name',\"Not Available\"))"
      ],
      "metadata": {
        "colab": {
          "base_uri": "https://localhost:8080/"
        },
        "id": "czmDoFAxLpde",
        "outputId": "4f327c20-202c-4a73-f991-91b542b6eb38"
      },
      "execution_count": 268,
      "outputs": [
        {
          "output_type": "stream",
          "name": "stdout",
          "text": [
            "Not Available\n"
          ]
        }
      ]
    },
    {
      "cell_type": "code",
      "source": [
        "student[\"age\"]=33\n",
        "print(student)"
      ],
      "metadata": {
        "colab": {
          "base_uri": "https://localhost:8080/"
        },
        "id": "1-V6n82OL57-",
        "outputId": "5aa2e6f7-fb6a-4cbb-b7e1-62be7a4a1c00"
      },
      "execution_count": 269,
      "outputs": [
        {
          "output_type": "stream",
          "name": "stdout",
          "text": [
            "{'name': 'Honey', 'age': 33, 'grade': 'A'}\n"
          ]
        }
      ]
    },
    {
      "cell_type": "code",
      "source": [
        " student[\"address\"]=\"India\"\n",
        " print(student)"
      ],
      "metadata": {
        "colab": {
          "base_uri": "https://localhost:8080/"
        },
        "id": "Zij6YNk7L5wH",
        "outputId": "56c72521-dbb5-4811-ab75-962b210b5abc"
      },
      "execution_count": 270,
      "outputs": [
        {
          "output_type": "stream",
          "name": "stdout",
          "text": [
            "{'name': 'Honey', 'age': 33, 'grade': 'A', 'address': 'India'}\n"
          ]
        }
      ]
    },
    {
      "cell_type": "code",
      "source": [
        "del student['grade']\n",
        "print(student)"
      ],
      "metadata": {
        "colab": {
          "base_uri": "https://localhost:8080/"
        },
        "id": "JyTpRkfUL5ix",
        "outputId": "bd96be72-c398-43ab-cdea-5c1f983a01c9"
      },
      "execution_count": 271,
      "outputs": [
        {
          "output_type": "stream",
          "name": "stdout",
          "text": [
            "{'name': 'Honey', 'age': 33, 'address': 'India'}\n"
          ]
        }
      ]
    },
    {
      "cell_type": "code",
      "source": [
        " keys=student.keys()\n",
        " print(keys)\n",
        " values=student.values()\n",
        " print(values)\n",
        " items=student.items()\n",
        " print(items)"
      ],
      "metadata": {
        "colab": {
          "base_uri": "https://localhost:8080/"
        },
        "id": "HWjgazjkMGek",
        "outputId": "32bd86c5-9499-4318-bff0-7eaaa36753f9"
      },
      "execution_count": 272,
      "outputs": [
        {
          "output_type": "stream",
          "name": "stdout",
          "text": [
            "dict_keys(['name', 'age', 'address'])\n",
            "dict_values(['Honey', 33, 'India'])\n",
            "dict_items([('name', 'Honey'), ('age', 33), ('address', 'India')])\n"
          ]
        }
      ]
    },
    {
      "cell_type": "code",
      "source": [
        " import copy\n",
        " student = {'name': 'Honey', 'subjects': ['Math', 'Science']}\n",
        " student_copy = copy.copy(student)\n",
        "student, student_copy"
      ],
      "metadata": {
        "colab": {
          "base_uri": "https://localhost:8080/"
        },
        "id": "AP3UFjRTMGR0",
        "outputId": "5f1bcae3-6596-41e5-d52e-b97f99d6743d"
      },
      "execution_count": 273,
      "outputs": [
        {
          "output_type": "execute_result",
          "data": {
            "text/plain": [
              "({'name': 'Honey', 'subjects': ['Math', 'Science']},\n",
              " {'name': 'Honey', 'subjects': ['Math', 'Science']})"
            ]
          },
          "metadata": {},
          "execution_count": 273
        }
      ]
    },
    {
      "cell_type": "code",
      "source": [
        "student['subjects'].append('English')\n",
        "print(student)\n",
        "print(student_copy)"
      ],
      "metadata": {
        "colab": {
          "base_uri": "https://localhost:8080/"
        },
        "id": "Wug64VXZMGFx",
        "outputId": "93df8309-17dd-4687-e3e0-37d1e835672a"
      },
      "execution_count": 274,
      "outputs": [
        {
          "output_type": "stream",
          "name": "stdout",
          "text": [
            "{'name': 'Honey', 'subjects': ['Math', 'Science', 'English']}\n",
            "{'name': 'Honey', 'subjects': ['Math', 'Science', 'English']}\n"
          ]
        }
      ]
    },
    {
      "cell_type": "code",
      "source": [
        "import copy\n",
        "student = {'name': 'Honey', 'subjects': ['Math', 'Science']}\n",
        "student_copy2 = copy.deepcopy(student)\n",
        "student, student_copy2\n"
      ],
      "metadata": {
        "colab": {
          "base_uri": "https://localhost:8080/"
        },
        "id": "KIs-0xOPMF6O",
        "outputId": "4f239864-27e4-42b4-f441-a2d838a94a62"
      },
      "execution_count": 275,
      "outputs": [
        {
          "output_type": "execute_result",
          "data": {
            "text/plain": [
              "({'name': 'Honey', 'subjects': ['Math', 'Science']},\n",
              " {'name': 'Honey', 'subjects': ['Math', 'Science']})"
            ]
          },
          "metadata": {},
          "execution_count": 275
        }
      ]
    },
    {
      "cell_type": "code",
      "source": [
        " student['subjects'].append('English')\n",
        " print(student)\n",
        " print(student_copy2)"
      ],
      "metadata": {
        "colab": {
          "base_uri": "https://localhost:8080/"
        },
        "id": "56_KD498M-nZ",
        "outputId": "81e17bc1-8f3a-45de-b18b-011e1501fcf1"
      },
      "execution_count": 276,
      "outputs": [
        {
          "output_type": "stream",
          "name": "stdout",
          "text": [
            "{'name': 'Honey', 'subjects': ['Math', 'Science', 'English']}\n",
            "{'name': 'Honey', 'subjects': ['Math', 'Science']}\n"
          ]
        }
      ]
    },
    {
      "cell_type": "code",
      "source": [
        "  for keys in student.keys():\n",
        "    print(keys)"
      ],
      "metadata": {
        "colab": {
          "base_uri": "https://localhost:8080/"
        },
        "id": "XFQogGzQM-aj",
        "outputId": "c09769da-0957-43bd-befe-ef4faf960817"
      },
      "execution_count": 277,
      "outputs": [
        {
          "output_type": "stream",
          "name": "stdout",
          "text": [
            "name\n",
            "subjects\n"
          ]
        }
      ]
    },
    {
      "cell_type": "code",
      "source": [
        "for value in student.values():\n",
        "    print(value)"
      ],
      "metadata": {
        "colab": {
          "base_uri": "https://localhost:8080/"
        },
        "id": "ckc-AR73M-Ka",
        "outputId": "3ef303af-9c9d-4294-eee5-c0bd6cb8105e"
      },
      "execution_count": 278,
      "outputs": [
        {
          "output_type": "stream",
          "name": "stdout",
          "text": [
            "Honey\n",
            "['Math', 'Science', 'English']\n"
          ]
        }
      ]
    },
    {
      "cell_type": "code",
      "source": [
        " for key,value in student.items():\n",
        "    print(f\"{key}:{value}\")"
      ],
      "metadata": {
        "colab": {
          "base_uri": "https://localhost:8080/"
        },
        "id": "ODXSEtK7NrlT",
        "outputId": "4de52edd-a81e-4637-9df5-5de9c8f31071"
      },
      "execution_count": 279,
      "outputs": [
        {
          "output_type": "stream",
          "name": "stdout",
          "text": [
            "name:Honey\n",
            "subjects:['Math', 'Science', 'English']\n"
          ]
        }
      ]
    },
    {
      "cell_type": "code",
      "source": [
        "students={\"student1\":{\"name\":\"Sunny\",\"age\":32},\"student2\":{\"name\":\"Peter\",\"age\":35}}\n",
        "\n",
        "print(students)"
      ],
      "metadata": {
        "colab": {
          "base_uri": "https://localhost:8080/"
        },
        "id": "c2tcJYgrNrVS",
        "outputId": "65f0614e-b78d-4745-a427-ce093c8ddb36"
      },
      "execution_count": 280,
      "outputs": [
        {
          "output_type": "stream",
          "name": "stdout",
          "text": [
            "{'student1': {'name': 'Sunny', 'age': 32}, 'student2': {'name': 'Peter', 'age': 35}}\n"
          ]
        }
      ]
    },
    {
      "cell_type": "code",
      "source": [
        " print(students[\"student2\"][\"name\"])\n",
        " print(students[\"student2\"][\"age\"])"
      ],
      "metadata": {
        "colab": {
          "base_uri": "https://localhost:8080/"
        },
        "id": "pU1bIX-sN_88",
        "outputId": "4e7e0140-de0e-4695-8cb0-584ee9d022ae"
      },
      "execution_count": 281,
      "outputs": [
        {
          "output_type": "stream",
          "name": "stdout",
          "text": [
            "Peter\n",
            "35\n"
          ]
        }
      ]
    },
    {
      "cell_type": "code",
      "source": [
        "students.items()"
      ],
      "metadata": {
        "colab": {
          "base_uri": "https://localhost:8080/"
        },
        "id": "U6s4C3F4N_vd",
        "outputId": "569028f7-eddc-4206-f7a8-31067f3520e0"
      },
      "execution_count": 282,
      "outputs": [
        {
          "output_type": "execute_result",
          "data": {
            "text/plain": [
              "dict_items([('student1', {'name': 'Sunny', 'age': 32}), ('student2', {'name': 'Peter', 'age': 35})])"
            ]
          },
          "metadata": {},
          "execution_count": 282
        }
      ]
    },
    {
      "cell_type": "markdown",
      "source": [
        "#Functions"
      ],
      "metadata": {
        "id": "WivSd-BwOM0F"
      }
    },
    {
      "cell_type": "code",
      "source": [
        "def evenodd(num):\n",
        "\n",
        "    if num%2==0:\n",
        "        print(\"the number is even\")\n",
        "    else:\n",
        "        print(\"the number is odd\")\n",
        "evenodd(2)"
      ],
      "metadata": {
        "colab": {
          "base_uri": "https://localhost:8080/"
        },
        "id": "4jzo4BXNN_f-",
        "outputId": "2c0a6b73-f471-4d97-d2eb-63e5f92f082c"
      },
      "execution_count": 283,
      "outputs": [
        {
          "output_type": "stream",
          "name": "stdout",
          "text": [
            "the number is even\n"
          ]
        }
      ]
    },
    {
      "cell_type": "code",
      "source": [
        "def greet(name):\n",
        "    print(f\"Hello {name} Welcome to the hotel palm\")\n",
        "\n",
        "greet(\"Gaurav\")"
      ],
      "metadata": {
        "colab": {
          "base_uri": "https://localhost:8080/"
        },
        "id": "5ZJjOnohOeGA",
        "outputId": "ae758c26-26bb-448b-9794-f24b09bd0d61"
      },
      "execution_count": 284,
      "outputs": [
        {
          "output_type": "stream",
          "name": "stdout",
          "text": [
            "Hello Gaurav Welcome to the hotel palm\n"
          ]
        }
      ]
    },
    {
      "cell_type": "code",
      "source": [
        "def print_numbers(*f):\n",
        "    for number in f:\n",
        "        print(number)\n",
        "print_numbers(1,2,3,\"king\")"
      ],
      "metadata": {
        "colab": {
          "base_uri": "https://localhost:8080/"
        },
        "id": "iYzDmmwSOyGY",
        "outputId": "f91c1795-293d-4f2f-da88-0f6d952c98e5"
      },
      "execution_count": 285,
      "outputs": [
        {
          "output_type": "stream",
          "name": "stdout",
          "text": [
            "1\n",
            "2\n",
            "3\n",
            "king\n"
          ]
        }
      ]
    },
    {
      "cell_type": "code",
      "source": [
        "def print_numbers(*args):\n",
        "    for i in args:\n",
        "        print(i)\n",
        "print_numbers(1,2,3,\"King\", \"Divine\")"
      ],
      "metadata": {
        "colab": {
          "base_uri": "https://localhost:8080/"
        },
        "id": "YLTLcIQtO2Rr",
        "outputId": "595810b2-0eae-401a-c8f7-529b835d4682"
      },
      "execution_count": 286,
      "outputs": [
        {
          "output_type": "stream",
          "name": "stdout",
          "text": [
            "1\n",
            "2\n",
            "3\n",
            "King\n",
            "Divine\n"
          ]
        }
      ]
    },
    {
      "cell_type": "code",
      "source": [
        "def sum_of_numbers(*args):\n",
        "    sum = 0\n",
        "    for i in args:\n",
        "        sum = sum + i\n",
        "    return sum\n",
        "sum_of_numbers(1,2,3,4,5,6,7,8,9,0)"
      ],
      "metadata": {
        "colab": {
          "base_uri": "https://localhost:8080/"
        },
        "id": "XJ7WtaI4O7Qz",
        "outputId": "cbb6e00e-28f1-4731-c810-95628c0e1b46"
      },
      "execution_count": 287,
      "outputs": [
        {
          "output_type": "execute_result",
          "data": {
            "text/plain": [
              "45"
            ]
          },
          "metadata": {},
          "execution_count": 287
        }
      ]
    },
    {
      "cell_type": "code",
      "source": [
        "def print_details(**kwargs):\n",
        "    for key,value in kwargs.items():\n",
        "        print(f\"{key}:{value}\")\n",
        "print_details(name=\"Ajay\",age=\"32\",country=\"India\")"
      ],
      "metadata": {
        "colab": {
          "base_uri": "https://localhost:8080/"
        },
        "id": "w5XE1QHuPDev",
        "outputId": "34c42c00-eb8b-48c2-d6ed-9c880f15c911"
      },
      "execution_count": 288,
      "outputs": [
        {
          "output_type": "stream",
          "name": "stdout",
          "text": [
            "name:Ajay\n",
            "age:32\n",
            "country:India\n"
          ]
        }
      ]
    },
    {
      "cell_type": "code",
      "source": [
        "def print_details(*args,**kwargs):\n",
        "    for val in args:\n",
        "        print(f\" Positional arument :{val}\")\n",
        "\n",
        "    for key,value in kwargs.items():\n",
        "        print(f\"{key}:{value}\")"
      ],
      "metadata": {
        "id": "hGLaECXBPHX_"
      },
      "execution_count": 289,
      "outputs": []
    },
    {
      "cell_type": "code",
      "source": [
        "print_details(1,2,3,4,\"Ajay\",name=\"Ajay\",age=\"32\",country=\"India\")"
      ],
      "metadata": {
        "colab": {
          "base_uri": "https://localhost:8080/"
        },
        "id": "acOZyPv2PcYf",
        "outputId": "03efe41b-c45c-41d2-b05f-93f5b8ac20b8"
      },
      "execution_count": 290,
      "outputs": [
        {
          "output_type": "stream",
          "name": "stdout",
          "text": [
            " Positional arument :1\n",
            " Positional arument :2\n",
            " Positional arument :3\n",
            " Positional arument :4\n",
            " Positional arument :Ajay\n",
            "name:Ajay\n",
            "age:32\n",
            "country:India\n"
          ]
        }
      ]
    },
    {
      "cell_type": "code",
      "source": [
        "def multiply(a,b):\n",
        "    return a*b\n",
        "multiply(2,3)"
      ],
      "metadata": {
        "colab": {
          "base_uri": "https://localhost:8080/"
        },
        "id": "J6lgOn5kPl3p",
        "outputId": "e04e470d-b220-43c4-8a5d-0e5ababdf418"
      },
      "execution_count": 291,
      "outputs": [
        {
          "output_type": "execute_result",
          "data": {
            "text/plain": [
              "6"
            ]
          },
          "metadata": {},
          "execution_count": 291
        }
      ]
    },
    {
      "cell_type": "markdown",
      "source": [
        "##Lambda Function"
      ],
      "metadata": {
        "id": "6CGU2BIzPuHU"
      }
    },
    {
      "cell_type": "code",
      "source": [
        " addition=lambda a,b:a+b\n",
        " type(addition)\n",
        " print(addition(5,6))"
      ],
      "metadata": {
        "colab": {
          "base_uri": "https://localhost:8080/"
        },
        "id": "KP5YFCi8PnZm",
        "outputId": "eedad412-c115-4a6b-d154-2934def876a5"
      },
      "execution_count": 292,
      "outputs": [
        {
          "output_type": "stream",
          "name": "stdout",
          "text": [
            "11\n"
          ]
        }
      ]
    },
    {
      "cell_type": "code",
      "source": [
        " even1=lambda num:num%2==0\n",
        " even1(12)"
      ],
      "metadata": {
        "colab": {
          "base_uri": "https://localhost:8080/"
        },
        "id": "mISPBcX5PnLQ",
        "outputId": "8822a5bf-39d9-488f-c901-06fa2866dbd5"
      },
      "execution_count": 293,
      "outputs": [
        {
          "output_type": "execute_result",
          "data": {
            "text/plain": [
              "True"
            ]
          },
          "metadata": {},
          "execution_count": 293
        }
      ]
    },
    {
      "cell_type": "code",
      "source": [
        " def addition(x,y,z):\n",
        "    return x+y+z\n",
        " addition(12,13,14)"
      ],
      "metadata": {
        "colab": {
          "base_uri": "https://localhost:8080/"
        },
        "id": "msESnB06Pm8D",
        "outputId": "a5fec6e4-a7ab-427e-b958-c0a2a3ac426c"
      },
      "execution_count": 294,
      "outputs": [
        {
          "output_type": "execute_result",
          "data": {
            "text/plain": [
              "39"
            ]
          },
          "metadata": {},
          "execution_count": 294
        }
      ]
    },
    {
      "cell_type": "code",
      "source": [
        "addition1=lambda x,y,z:x+y+z\n",
        "addition1(12,13,14)"
      ],
      "metadata": {
        "colab": {
          "base_uri": "https://localhost:8080/"
        },
        "id": "Z4GQ8F6wPmtU",
        "outputId": "4e6714c7-c4f7-441f-9835-9aab3464568a"
      },
      "execution_count": 295,
      "outputs": [
        {
          "output_type": "execute_result",
          "data": {
            "text/plain": [
              "39"
            ]
          },
          "metadata": {},
          "execution_count": 295
        }
      ]
    },
    {
      "cell_type": "code",
      "source": [
        "list(map(lambda x:x**2,numbers))"
      ],
      "metadata": {
        "colab": {
          "base_uri": "https://localhost:8080/"
        },
        "id": "33AbMmGFQL1U",
        "outputId": "5701373e-96b7-405c-bd67-09160a671028"
      },
      "execution_count": 296,
      "outputs": [
        {
          "output_type": "execute_result",
          "data": {
            "text/plain": [
              "[1, 4, 9, 16, 25, 36]"
            ]
          },
          "metadata": {},
          "execution_count": 296
        }
      ]
    },
    {
      "cell_type": "code",
      "source": [
        "numbers=[1,2,3,4,5,6,7,8]\n",
        "list(map(lambda x:x*x,numbers))"
      ],
      "metadata": {
        "colab": {
          "base_uri": "https://localhost:8080/"
        },
        "id": "d9lQ6eLcQLmF",
        "outputId": "94f01135-45e3-45b5-9f2b-91fe49a49b6f"
      },
      "execution_count": 297,
      "outputs": [
        {
          "output_type": "execute_result",
          "data": {
            "text/plain": [
              "[1, 4, 9, 16, 25, 36, 49, 64]"
            ]
          },
          "metadata": {},
          "execution_count": 297
        }
      ]
    },
    {
      "cell_type": "code",
      "source": [
        " numbers1=[1,2,3]\n",
        " numbers2=[4,5,6]\n",
        " added_numbers=list(map(lambda x,y:x+y,numbers1,numbers2))\n",
        " print(added_numbers)"
      ],
      "metadata": {
        "colab": {
          "base_uri": "https://localhost:8080/"
        },
        "id": "frNb-wqFQLYZ",
        "outputId": "0c8d8d1a-6e44-491f-c819-628b82a55de3"
      },
      "execution_count": 298,
      "outputs": [
        {
          "output_type": "stream",
          "name": "stdout",
          "text": [
            "[5, 7, 9]\n"
          ]
        }
      ]
    },
    {
      "cell_type": "code",
      "source": [
        " str_numbers = ['1', '2', '3', '4', '5']\n",
        " int_numbers = list(map(int, str_numbers))\n",
        " print(int_numbers)"
      ],
      "metadata": {
        "colab": {
          "base_uri": "https://localhost:8080/"
        },
        "id": "kuOh0Ww6QLIW",
        "outputId": "8713bdcd-0e1d-4240-b8a8-14e4e53fb222"
      },
      "execution_count": 299,
      "outputs": [
        {
          "output_type": "stream",
          "name": "stdout",
          "text": [
            "[1, 2, 3, 4, 5]\n"
          ]
        }
      ]
    },
    {
      "cell_type": "code",
      "source": [
        "words=['apple','banana','cherry']\n",
        "upper_word=list(map(str.upper,words))\n",
        "print(upper_word)"
      ],
      "metadata": {
        "colab": {
          "base_uri": "https://localhost:8080/"
        },
        "id": "BauiS6QgQdiu",
        "outputId": "0953e5ed-57d0-43e5-c9aa-babdb2d4e527"
      },
      "execution_count": 300,
      "outputs": [
        {
          "output_type": "stream",
          "name": "stdout",
          "text": [
            "['APPLE', 'BANANA', 'CHERRY']\n"
          ]
        }
      ]
    },
    {
      "cell_type": "code",
      "source": [
        "def get_name(person):\n",
        "    return person['name']\n",
        "people=[{'name':'Ajay','age':32},{'name':'Jack','age':33} ]\n",
        "list(map(get_name,people))"
      ],
      "metadata": {
        "colab": {
          "base_uri": "https://localhost:8080/"
        },
        "id": "p-Azrg8gQdVp",
        "outputId": "d369e4e6-8e4c-4482-e2d2-6d8b7d5fcfcc"
      },
      "execution_count": 301,
      "outputs": [
        {
          "output_type": "execute_result",
          "data": {
            "text/plain": [
              "['Ajay', 'Jack']"
            ]
          },
          "metadata": {},
          "execution_count": 301
        }
      ]
    },
    {
      "cell_type": "code",
      "source": [
        "def even(num):\n",
        "    if num%2==0:\n",
        "        return True\n",
        "lst=[1,2,3,4,5,6,7,8,9,10,11,12]\n",
        "list(filter(even,lst))"
      ],
      "metadata": {
        "colab": {
          "base_uri": "https://localhost:8080/"
        },
        "id": "PzlbgyC3QdIK",
        "outputId": "919d0835-240f-4ef3-834f-81db21da0406"
      },
      "execution_count": 302,
      "outputs": [
        {
          "output_type": "execute_result",
          "data": {
            "text/plain": [
              "[2, 4, 6, 8, 10, 12]"
            ]
          },
          "metadata": {},
          "execution_count": 302
        }
      ]
    },
    {
      "cell_type": "code",
      "source": [
        " numbers=[1,2,3,4,5,6,7,8,9]\n",
        " greater_than_five=list(filter(lambda x:x>5,numbers))\n",
        " print(greater_than_five)"
      ],
      "metadata": {
        "colab": {
          "base_uri": "https://localhost:8080/"
        },
        "id": "r2hl9dgOQ2pe",
        "outputId": "b32fa41d-72ef-4e15-9528-60561d7c970c"
      },
      "execution_count": 303,
      "outputs": [
        {
          "output_type": "stream",
          "name": "stdout",
          "text": [
            "[6, 7, 8, 9]\n"
          ]
        }
      ]
    },
    {
      "cell_type": "code",
      "source": [
        " numbers=[1,2,3,4,5,6,7,8,9]\n",
        " even_and_greater_than_five=list(filter(lambda x:x>5 and x%2==0,numbers))\n",
        " print(even_and_greater_than_five)\n",
        "\n"
      ],
      "metadata": {
        "id": "jzm9bgQgFKVj",
        "colab": {
          "base_uri": "https://localhost:8080/"
        },
        "outputId": "213dbb2e-33ce-4100-a8d9-fe38a480a074"
      },
      "execution_count": 304,
      "outputs": [
        {
          "output_type": "stream",
          "name": "stdout",
          "text": [
            "[6, 8]\n"
          ]
        }
      ]
    },
    {
      "cell_type": "code",
      "source": [
        " numbers=[1,2,3,4,5,6,7,8,9]\n",
        " even_and_greater_than_five=list(filter(lambda x:x>5 and x%2==0,numbers))\n",
        " print(even_and_greater_than_five)"
      ],
      "metadata": {
        "colab": {
          "base_uri": "https://localhost:8080/"
        },
        "id": "kHUprjHlGXVq",
        "outputId": "6434274f-e602-4f12-e93e-b8d34be5ee1d"
      },
      "execution_count": 305,
      "outputs": [
        {
          "output_type": "stream",
          "name": "stdout",
          "text": [
            "[6, 8]\n"
          ]
        }
      ]
    },
    {
      "cell_type": "code",
      "source": [
        "people=[{'name':'Sunny','age':32}, {'name':'Jack','age':33},{'name':'John','age':25}]\n",
        "def age_greater_than_25(person):\n",
        "    return person['age']>25\n",
        "list(filter(age_greater_than_25,people))"
      ],
      "metadata": {
        "colab": {
          "base_uri": "https://localhost:8080/"
        },
        "id": "vHjUvrzEGNQ3",
        "outputId": "ca6c4df7-42c1-4363-dc16-a470a254cd69"
      },
      "execution_count": 306,
      "outputs": [
        {
          "output_type": "execute_result",
          "data": {
            "text/plain": [
              "[{'name': 'Sunny', 'age': 32}, {'name': 'Jack', 'age': 33}]"
            ]
          },
          "metadata": {},
          "execution_count": 306
        }
      ]
    }
  ]
}